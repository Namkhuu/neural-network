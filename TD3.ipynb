{
 "cells": [
  {
   "cell_type": "code",
   "execution_count": null,
   "id": "35a94252",
   "metadata": {},
   "outputs": [],
   "source": [
    "import gymnasium as gym \n",
    "import numpy as np\n",
    "import matplotlib.pyplot as plt\n",
    "import tensorflow as tf\n",
    "import keras\n",
    "from keras import layers\n",
    "from keras.models import Model\n",
    "from keras.layers import Input, Dense, Lambda\n",
    "from keras.layers import Concatenate\n",
    "from collections import deque\n",
    "import random"
   ]
  },
  {
   "cell_type": "code",
   "execution_count": null,
   "id": "94ccf874",
   "metadata": {},
   "outputs": [
    {
     "data": {
      "text/plain": [
       "[PhysicalDevice(name='/physical_device:GPU:0', device_type='GPU')]"
      ]
     },
     "execution_count": 2,
     "metadata": {},
     "output_type": "execute_result"
    }
   ],
   "source": [
    "env = gym.make(\"Pendulum-v1\", render_mode= \"human\", g = 9.81)\n",
    "tf.config.list_physical_devices(\"GPU\")"
   ]
  },
  {
   "cell_type": "code",
   "execution_count": null,
   "id": "989c7dc1",
   "metadata": {},
   "outputs": [
    {
     "data": {
      "text/plain": [
       "<tensorflow.python.checkpoint.checkpoint.InitializationOnlyStatus at 0x24914cda740>"
      ]
     },
     "execution_count": 3,
     "metadata": {},
     "output_type": "execute_result"
    }
   ],
   "source": [
    "state_size = env.observation_space.shape[0] # x, y, angular velocity\n",
    "action_size = env.action_space.shape[0] # torque [-2, 2]\n",
    "gamma = 0.99 # discount rate\n",
    "learning_rate = 0.001 # learning rate\n",
    "\n",
    "# Define the actor model\n",
    "states_inputs = Input(shape=(state_size,))\n",
    "dense = Dense(400, activation='relu')(states_inputs)\n",
    "dense = Dense(300, activation='relu')(dense)\n",
    "outputs = Dense(action_size, activation='tanh')(dense)\n",
    "outputs = keras.layers.Lambda(lambda x: x * 2.0)(outputs)  # Scale action to [-2, 2]\n",
    "actor_model = Model(inputs=states_inputs, outputs=outputs)\n",
    "\n",
    "# Critic 1\n",
    "state_input1 = Input(shape=(state_size,))\n",
    "action_input1 = Input(shape=(action_size,))\n",
    "concat1 = Concatenate()([state_input1, action_input1])\n",
    "dense1 = Dense(400, activation='relu')(concat1)\n",
    "dense1 = Dense(300, activation='relu')(dense1)\n",
    "output1 = Dense(1)(dense1)\n",
    "critic_model1 = Model([state_input1, action_input1], output1)\n",
    "\n",
    "# Critic 2\n",
    "state_input2 = Input(shape=(state_size,))\n",
    "action_input2 = Input(shape=(action_size,))\n",
    "concat2 = Concatenate()([state_input2, action_input2])\n",
    "dense2 = Dense(400, activation='relu')(concat2)\n",
    "dense2 = Dense(300, activation='relu')(dense2)\n",
    "output2 = Dense(1)(dense2)\n",
    "critic_model2 = Model([state_input2, action_input2], output2)\n",
    "\n",
    "try:\n",
    "    actor_model.load_weights('saves/td3/actor_model.weights.h5')\n",
    "    critic_model1.load_weights('saves/td3/critic_model1.weights.h5')\n",
    "    critic_model2.load_weights('saves/td3/critic_model2.weights.h5')\n",
    "except:\n",
    "    pass\n",
    "\n",
    "actor_optimizer = tf.keras.optimizers.Adam(learning_rate=learning_rate)\n",
    "critic_optimizer1 = tf.keras.optimizers.Adam(learning_rate=learning_rate)\n",
    "critic_optimizer2 = tf.keras.optimizers.Adam(learning_rate=learning_rate)\n",
    "\n",
    "target_actor = keras.models.clone_model(actor_model)\n",
    "target_actor.set_weights(actor_model.get_weights())\n",
    "\n",
    "target_critic1 = keras.models.clone_model(critic_model1)\n",
    "target_critic1.set_weights(critic_model1.get_weights())\n",
    "target_critic2 = keras.models.clone_model(critic_model2)\n",
    "target_critic2.set_weights(critic_model2.get_weights())\n",
    "\n",
    "ckpt = tf.train.Checkpoint(actor_optimizer=actor_optimizer,\n",
    "                           critic_optimizer1=critic_optimizer1, \n",
    "                           critic_optimizer2=critic_optimizer2)\n",
    "\n",
    "# Restore the latest checkpoint with optimizer states\n",
    "ckpt.restore(tf.train.latest_checkpoint(\"saves/td3/optimizers_ckpt\")).expect_partial()\n",
    "\n"
   ]
  },
  {
   "cell_type": "code",
   "execution_count": null,
   "id": "4fcc54e4",
   "metadata": {},
   "outputs": [],
   "source": [
    "class ReplayBuffer:\n",
    "    def __init__(self, capacity=100000):\n",
    "        self.buffer = deque(maxlen=capacity)\n",
    "    def store(self, state, action, reward, next_state, done):\n",
    "        self.buffer.append((state, action, reward, next_state, done))\n",
    "    def sample(self, batch_size):\n",
    "        batch = random.sample(self.buffer, batch_size)\n",
    "        states, actions, rewards, next_states, dones = map(np.array, zip(*batch))\n",
    "        return states, actions, rewards, next_states, dones\n",
    "    def size(self):\n",
    "        return len(self.buffer)\n",
    "# No need for OU noise in TD3 as per original paper\n",
    "# class OUActionNoise: # Ornstein-Uhlenbeck Process\n",
    "#     def __init__(self, mean, std_dev, theta=0.15, dt=1e-2):\n",
    "#         self.theta = theta\n",
    "#         self.mu = mean\n",
    "#         self.sigma = std_dev\n",
    "#         self.dt = dt\n",
    "#         self.x_prev = np.zeros_like(self.mu)\n",
    "#     def __call__(self):\n",
    "#         x = self.x_prev + self.theta * (self.mu - self.x_prev) * self.dt + \\\n",
    "#             self.sigma * np.sqrt(self.dt) * np.random.normal(size=self.mu.shape)\n",
    "#         self.x_prev = x\n",
    "#         return x\n",
    "    \n",
    "def soft_update(target_weights, online_weights, tau=0.005):\n",
    "    for (target, online) in zip(target_weights, online_weights):\n",
    "        target.assign(target * (1 - tau) + online * tau) \n",
    "\n",
    "# noise = OUActionNoise(mean=np.zeros(action_size), std_dev=0.01 * np.ones(action_size))\n",
    "replay_buffer = ReplayBuffer()"
   ]
  },
  {
   "cell_type": "code",
   "execution_count": null,
   "id": "faebca6d",
   "metadata": {},
   "outputs": [
    {
     "ename": "NameError",
     "evalue": "name 'env' is not defined",
     "output_type": "error",
     "traceback": [
      "\u001b[1;31m---------------------------------------------------------------------------\u001b[0m",
      "\u001b[1;31mNameError\u001b[0m                                 Traceback (most recent call last)",
      "Cell \u001b[1;32mIn[1], line 7\u001b[0m\n\u001b[0;32m      4\u001b[0m policy_delay \u001b[38;5;241m=\u001b[39m \u001b[38;5;241m2\u001b[39m  \u001b[38;5;66;03m# Delayed policy updates\u001b[39;00m\n\u001b[0;32m      6\u001b[0m \u001b[38;5;28;01mfor\u001b[39;00m e \u001b[38;5;129;01min\u001b[39;00m \u001b[38;5;28mrange\u001b[39m(epoch): \n\u001b[1;32m----> 7\u001b[0m     state, _ \u001b[38;5;241m=\u001b[39m \u001b[43menv\u001b[49m\u001b[38;5;241m.\u001b[39mreset() \n\u001b[0;32m      8\u001b[0m     done \u001b[38;5;241m=\u001b[39m \u001b[38;5;28;01mFalse\u001b[39;00m \n\u001b[0;32m      9\u001b[0m     total_reward \u001b[38;5;241m=\u001b[39m \u001b[38;5;241m0\u001b[39m\n",
      "\u001b[1;31mNameError\u001b[0m: name 'env' is not defined"
     ]
    }
   ],
   "source": [
    "epoch = 200\n",
    "batch_size = 64\n",
    "history = []\n",
    "policy_delay = 2  # Delayed policy updates\n",
    "\n",
    "for e in range(epoch): \n",
    "    state, _ = env.reset() \n",
    "    done = False \n",
    "    total_reward = 0\n",
    "    step = 0\n",
    "    while not done:\n",
    "        step += 1\n",
    "        action = actor_model(tf.convert_to_tensor([state], dtype=tf.float32)).numpy()[0]\n",
    "        action = action + np.random.normal(0, 0.1, size=action_size)\n",
    "        action = np.clip(action, -2.0, 2.0)  # clip action to [-2, 2]\n",
    "\n",
    "        next_state, reward, terminated, truncated, _ = env.step(action)\n",
    "        done = terminated or truncated\n",
    "        \n",
    "        replay_buffer.store(state, action, reward, next_state, done)\n",
    "\n",
    "        total_reward += reward\n",
    "        state = next_state\n",
    "\n",
    "        if replay_buffer.size() >= batch_size: \n",
    "            states, actions, rewards, next_states, dones = replay_buffer.sample(batch_size)\n",
    "            states = tf.convert_to_tensor(states, dtype=tf.float32)\n",
    "            actions = tf.convert_to_tensor(actions, dtype=tf.float32)\n",
    "            rewards = tf.convert_to_tensor(rewards, dtype=tf.float32)\n",
    "            next_states = tf.convert_to_tensor(next_states, dtype=tf.float32)\n",
    "            dones = tf.convert_to_tensor(dones, dtype=tf.float32)\n",
    "\n",
    "            next_actions = target_actor(next_states)\n",
    "            target1 = tf.squeeze(target_critic1([next_states, next_actions]), axis=1)\n",
    "            target2 = tf.squeeze(target_critic2([next_states, next_actions]), axis=1)\n",
    "            target_q = rewards + gamma * (1 - dones) * tf.minimum(target1, target2)\n",
    "            with tf.GradientTape() as tape_critic1, tf.GradientTape() as tape_critic2:\n",
    "                q1 = critic_model1([states, actions], training=True)\n",
    "                q2 = critic_model2([states, actions], training=True)\n",
    "\n",
    "                # Compute losses\n",
    "                loss1 = tf.keras.losses.MSE(target_q, q1)\n",
    "                loss2 = tf.keras.losses.MSE(target_q, q2)\n",
    "\n",
    "            # Get gradients for each critic once\n",
    "            critic_grad1 = tape_critic1.gradient(loss1, critic_model1.trainable_variables)\n",
    "            critic_grad2 = tape_critic2.gradient(loss2, critic_model2.trainable_variables)\n",
    "\n",
    "            # Apply gradients\n",
    "            critic_optimizer1.apply_gradients(zip(critic_grad1, critic_model1.trainable_variables))\n",
    "            critic_optimizer2.apply_gradients(zip(critic_grad2, critic_model2.trainable_variables))\n",
    "            if step % policy_delay == 0:  # Delayed policy updates\n",
    "                with tf.GradientTape() as tape_actor: \n",
    "                    action = actor_model(states)\n",
    "                    actor_loss = -tf.reduce_mean(critic_model1([states, action]))\n",
    "\n",
    "                actor_grad = tape_actor.gradient(actor_loss, actor_model.trainable_variables)\n",
    "                actor_optimizer.apply_gradients(zip(actor_grad, actor_model.trainable_variables))\n",
    "\n",
    "                soft_update(target_actor.variables, actor_model.variables, tau=0.005)\n",
    "                soft_update(target_critic1.variables, critic_model1.variables, tau=0.005)\n",
    "                soft_update(target_critic2.variables, critic_model2.variables, tau=0.005)\n",
    "    history.append(total_reward)\n",
    "    if (e + 1) % 10 == 0:\n",
    "        print(f\"Epoch {e + 1}/{epoch}, Total Reward: {float(total_reward):.4f}\")\n",
    "\n",
    "        "
   ]
  },
  {
   "cell_type": "code",
   "execution_count": null,
   "id": "c474c033",
   "metadata": {},
   "outputs": [
    {
     "data": {
      "text/plain": [
       "'saves/td3/optimizers_ckpt/ckpt-1'"
      ]
     },
     "execution_count": 6,
     "metadata": {},
     "output_type": "execute_result"
    }
   ],
   "source": [
    "# Save model weights\n",
    "actor_model.save_weights(\"saves/td3/actor_model.weights.h5\")\n",
    "critic_model1.save_weights(\"saves/td3/critic_model1.weights.h5\")\n",
    "critic_model2.save_weights(\"saves/td3/critic_model2.weights.h5\")\n",
    "\n",
    "# Save optimizers with tf.train.Checkpoint\n",
    "ckpt = tf.train.Checkpoint(actor_optimizer=actor_optimizer,\n",
    "                           critic_optimizer1=critic_optimizer1,\n",
    "                           critic_optimizer2=critic_optimizer2)\n",
    "ckpt.save(\"saves/td3/optimizers_ckpt/ckpt\")\n"
   ]
  }
 ],
 "metadata": {
  "kernelspec": {
   "display_name": "DDPG",
   "language": "python",
   "name": "python3"
  },
  "language_info": {
   "codemirror_mode": {
    "name": "ipython",
    "version": 3
   },
   "file_extension": ".py",
   "mimetype": "text/x-python",
   "name": "python",
   "nbconvert_exporter": "python",
   "pygments_lexer": "ipython3",
   "version": "3.10.18"
  }
 },
 "nbformat": 4,
 "nbformat_minor": 5
}
