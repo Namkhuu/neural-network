{
 "cells": [
  {
   "cell_type": "code",
   "execution_count": 4,
   "id": "192eec4b",
   "metadata": {},
   "outputs": [
    {
     "name": "stdout",
     "output_type": "stream",
     "text": [
      "Connected to QUBE-Servo 3 USB\n",
      "Error during test: a bytes-like object is required, not 'int'\n"
     ]
    }
   ],
   "source": [
    "from quanser.hardware import HIL\n",
    "import time\n",
    "\n",
    "try:\n",
    "    # Connect to QUBE-Servo 3 USB\n",
    "    board = HIL(\"qube_servo3_usb\", \"0\")\n",
    "    print(\"Connected to QUBE-Servo 3 USB\")\n",
    "\n",
    "    encoder_channels = [0, 1]  # 0 = arm, 1 = pendulum\n",
    "    motor_channels   = [0]     # motor output\n",
    "\n",
    "    # Reset motor\n",
    "    board.write_analog(len(motor_channels), motor_channels, [0.0])\n",
    "\n",
    "    print(\"Applying test voltage...\")\n",
    "    for k in range(200):\n",
    "        voltage = 0.5  # constant voltage\n",
    "        board.write_analog(len(motor_channels), motor_channels, [voltage])\n",
    "\n",
    "        # Read encoder values\n",
    "        buffer = [0.0] * len(encoder_channels)\n",
    "        board.read_encoder(len(encoder_channels), encoder_channels, buffer)\n",
    "\n",
    "        print(f\"Step {k:03d} | Arm: {buffer[0]} | Pendulum: {buffer[1]} | V={voltage:.2f}\")\n",
    "        time.sleep(0.01)  # 10 ms delay\n",
    "\n",
    "    # Stop motor\n",
    "    board.write_analog(len(motor_channels), motor_channels, [0.0])\n",
    "    print(\"Test finished, motor stopped.\")\n",
    "\n",
    "except Exception as e:\n",
    "    print(\"Error during test:\", e)\n",
    "\n",
    "board.close()\n"
   ]
  },
  {
   "cell_type": "code",
   "execution_count": null,
   "id": "edddd060",
   "metadata": {},
   "outputs": [],
   "source": [
    "import numpy as np\n",
    "from quanser.hardware import HIL\n",
    "card = HIL(\"qube_servo3_usb\", \"0\")\n",
    "try:\n",
    "  channels = np.array([0, 3, 5], dtype=np.uint32)\n",
    "  num_channels = len(channels)\n",
    "  minima = np.array([-10, 0, -5], dtype=np.int32)\n",
    "  maxima = np.array([+10, 5, +5], dtype=np.int32)\n",
    "  card.set_analog_input_ranges(channels, num_channels, minima, maxima)\n",
    "  # ...\n",
    "\n",
    "finally:\n",
    "  card.close()"
   ]
  }
 ],
 "metadata": {
  "kernelspec": {
   "display_name": "DDPG",
   "language": "python",
   "name": "python3"
  },
  "language_info": {
   "codemirror_mode": {
    "name": "ipython",
    "version": 3
   },
   "file_extension": ".py",
   "mimetype": "text/x-python",
   "name": "python",
   "nbconvert_exporter": "python",
   "pygments_lexer": "ipython3",
   "version": "3.10.18"
  }
 },
 "nbformat": 4,
 "nbformat_minor": 5
}
